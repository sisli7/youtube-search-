{
  "nbformat": 4,
  "nbformat_minor": 0,
  "metadata": {
    "colab": {
      "name": "lstmprediction.ipynb",
      "provenance": [],
      "authorship_tag": "ABX9TyOp9yXpjvLIJkAmGn00b1TQ",
      "include_colab_link": true
    },
    "kernelspec": {
      "name": "python3",
      "display_name": "Python 3"
    }
  },
  "cells": [
    {
      "cell_type": "markdown",
      "metadata": {
        "id": "view-in-github",
        "colab_type": "text"
      },
      "source": [
        "<a href=\"https://colab.research.google.com/github/sisli7/youtube-search-/blob/master/lstmprediction.ipynb\" target=\"_parent\"><img src=\"https://colab.research.google.com/assets/colab-badge.svg\" alt=\"Open In Colab\"/></a>"
      ]
    },
    {
      "cell_type": "code",
      "metadata": {
        "id": "vnrrTDAQ3Zol"
      },
      "source": [
        "import pandas as pd \n",
        "import numpy as np \n",
        "from google.colab import files \n",
        "import io \n",
        "import matplotlib.pyplot as plt\n",
        "from sklearn.preprocessing import MinMaxScaler\n",
        "from tensorflow.keras.models import  Sequential\n",
        "from tensorflow.keras.layers import Dense\n",
        "from tensorflow.keras.layers import LSTM\n",
        "import tensorflow as tf\n",
        "import math \n",
        "from sklearn.metrics import mean_squared_error\n",
        "from numpy import array\n",
        "\n",
        "\n"
      ],
      "execution_count": 86,
      "outputs": []
    },
    {
      "cell_type": "code",
      "metadata": {
        "id": "oqGdrIkN3mmz",
        "outputId": "ac3b40d0-5df0-4b63-ad37-e1fc5065c943",
        "colab": {
          "resources": {
            "http://localhost:8080/nbextensions/google.colab/files.js": {
              "data": "Ly8gQ29weXJpZ2h0IDIwMTcgR29vZ2xlIExMQwovLwovLyBMaWNlbnNlZCB1bmRlciB0aGUgQXBhY2hlIExpY2Vuc2UsIFZlcnNpb24gMi4wICh0aGUgIkxpY2Vuc2UiKTsKLy8geW91IG1heSBub3QgdXNlIHRoaXMgZmlsZSBleGNlcHQgaW4gY29tcGxpYW5jZSB3aXRoIHRoZSBMaWNlbnNlLgovLyBZb3UgbWF5IG9idGFpbiBhIGNvcHkgb2YgdGhlIExpY2Vuc2UgYXQKLy8KLy8gICAgICBodHRwOi8vd3d3LmFwYWNoZS5vcmcvbGljZW5zZXMvTElDRU5TRS0yLjAKLy8KLy8gVW5sZXNzIHJlcXVpcmVkIGJ5IGFwcGxpY2FibGUgbGF3IG9yIGFncmVlZCB0byBpbiB3cml0aW5nLCBzb2Z0d2FyZQovLyBkaXN0cmlidXRlZCB1bmRlciB0aGUgTGljZW5zZSBpcyBkaXN0cmlidXRlZCBvbiBhbiAiQVMgSVMiIEJBU0lTLAovLyBXSVRIT1VUIFdBUlJBTlRJRVMgT1IgQ09ORElUSU9OUyBPRiBBTlkgS0lORCwgZWl0aGVyIGV4cHJlc3Mgb3IgaW1wbGllZC4KLy8gU2VlIHRoZSBMaWNlbnNlIGZvciB0aGUgc3BlY2lmaWMgbGFuZ3VhZ2UgZ292ZXJuaW5nIHBlcm1pc3Npb25zIGFuZAovLyBsaW1pdGF0aW9ucyB1bmRlciB0aGUgTGljZW5zZS4KCi8qKgogKiBAZmlsZW92ZXJ2aWV3IEhlbHBlcnMgZm9yIGdvb2dsZS5jb2xhYiBQeXRob24gbW9kdWxlLgogKi8KKGZ1bmN0aW9uKHNjb3BlKSB7CmZ1bmN0aW9uIHNwYW4odGV4dCwgc3R5bGVBdHRyaWJ1dGVzID0ge30pIHsKICBjb25zdCBlbGVtZW50ID0gZG9jdW1lbnQuY3JlYXRlRWxlbWVudCgnc3BhbicpOwogIGVsZW1lbnQudGV4dENvbnRlbnQgPSB0ZXh0OwogIGZvciAoY29uc3Qga2V5IG9mIE9iamVjdC5rZXlzKHN0eWxlQXR0cmlidXRlcykpIHsKICAgIGVsZW1lbnQuc3R5bGVba2V5XSA9IHN0eWxlQXR0cmlidXRlc1trZXldOwogIH0KICByZXR1cm4gZWxlbWVudDsKfQoKLy8gTWF4IG51bWJlciBvZiBieXRlcyB3aGljaCB3aWxsIGJlIHVwbG9hZGVkIGF0IGEgdGltZS4KY29uc3QgTUFYX1BBWUxPQURfU0laRSA9IDEwMCAqIDEwMjQ7CgpmdW5jdGlvbiBfdXBsb2FkRmlsZXMoaW5wdXRJZCwgb3V0cHV0SWQpIHsKICBjb25zdCBzdGVwcyA9IHVwbG9hZEZpbGVzU3RlcChpbnB1dElkLCBvdXRwdXRJZCk7CiAgY29uc3Qgb3V0cHV0RWxlbWVudCA9IGRvY3VtZW50LmdldEVsZW1lbnRCeUlkKG91dHB1dElkKTsKICAvLyBDYWNoZSBzdGVwcyBvbiB0aGUgb3V0cHV0RWxlbWVudCB0byBtYWtlIGl0IGF2YWlsYWJsZSBmb3IgdGhlIG5leHQgY2FsbAogIC8vIHRvIHVwbG9hZEZpbGVzQ29udGludWUgZnJvbSBQeXRob24uCiAgb3V0cHV0RWxlbWVudC5zdGVwcyA9IHN0ZXBzOwoKICByZXR1cm4gX3VwbG9hZEZpbGVzQ29udGludWUob3V0cHV0SWQpOwp9CgovLyBUaGlzIGlzIHJvdWdobHkgYW4gYXN5bmMgZ2VuZXJhdG9yIChub3Qgc3VwcG9ydGVkIGluIHRoZSBicm93c2VyIHlldCksCi8vIHdoZXJlIHRoZXJlIGFyZSBtdWx0aXBsZSBhc3luY2hyb25vdXMgc3RlcHMgYW5kIHRoZSBQeXRob24gc2lkZSBpcyBnb2luZwovLyB0byBwb2xsIGZvciBjb21wbGV0aW9uIG9mIGVhY2ggc3RlcC4KLy8gVGhpcyB1c2VzIGEgUHJvbWlzZSB0byBibG9jayB0aGUgcHl0aG9uIHNpZGUgb24gY29tcGxldGlvbiBvZiBlYWNoIHN0ZXAsCi8vIHRoZW4gcGFzc2VzIHRoZSByZXN1bHQgb2YgdGhlIHByZXZpb3VzIHN0ZXAgYXMgdGhlIGlucHV0IHRvIHRoZSBuZXh0IHN0ZXAuCmZ1bmN0aW9uIF91cGxvYWRGaWxlc0NvbnRpbnVlKG91dHB1dElkKSB7CiAgY29uc3Qgb3V0cHV0RWxlbWVudCA9IGRvY3VtZW50LmdldEVsZW1lbnRCeUlkKG91dHB1dElkKTsKICBjb25zdCBzdGVwcyA9IG91dHB1dEVsZW1lbnQuc3RlcHM7CgogIGNvbnN0IG5leHQgPSBzdGVwcy5uZXh0KG91dHB1dEVsZW1lbnQubGFzdFByb21pc2VWYWx1ZSk7CiAgcmV0dXJuIFByb21pc2UucmVzb2x2ZShuZXh0LnZhbHVlLnByb21pc2UpLnRoZW4oKHZhbHVlKSA9PiB7CiAgICAvLyBDYWNoZSB0aGUgbGFzdCBwcm9taXNlIHZhbHVlIHRvIG1ha2UgaXQgYXZhaWxhYmxlIHRvIHRoZSBuZXh0CiAgICAvLyBzdGVwIG9mIHRoZSBnZW5lcmF0b3IuCiAgICBvdXRwdXRFbGVtZW50Lmxhc3RQcm9taXNlVmFsdWUgPSB2YWx1ZTsKICAgIHJldHVybiBuZXh0LnZhbHVlLnJlc3BvbnNlOwogIH0pOwp9CgovKioKICogR2VuZXJhdG9yIGZ1bmN0aW9uIHdoaWNoIGlzIGNhbGxlZCBiZXR3ZWVuIGVhY2ggYXN5bmMgc3RlcCBvZiB0aGUgdXBsb2FkCiAqIHByb2Nlc3MuCiAqIEBwYXJhbSB7c3RyaW5nfSBpbnB1dElkIEVsZW1lbnQgSUQgb2YgdGhlIGlucHV0IGZpbGUgcGlja2VyIGVsZW1lbnQuCiAqIEBwYXJhbSB7c3RyaW5nfSBvdXRwdXRJZCBFbGVtZW50IElEIG9mIHRoZSBvdXRwdXQgZGlzcGxheS4KICogQHJldHVybiB7IUl0ZXJhYmxlPCFPYmplY3Q+fSBJdGVyYWJsZSBvZiBuZXh0IHN0ZXBzLgogKi8KZnVuY3Rpb24qIHVwbG9hZEZpbGVzU3RlcChpbnB1dElkLCBvdXRwdXRJZCkgewogIGNvbnN0IGlucHV0RWxlbWVudCA9IGRvY3VtZW50LmdldEVsZW1lbnRCeUlkKGlucHV0SWQpOwogIGlucHV0RWxlbWVudC5kaXNhYmxlZCA9IGZhbHNlOwoKICBjb25zdCBvdXRwdXRFbGVtZW50ID0gZG9jdW1lbnQuZ2V0RWxlbWVudEJ5SWQob3V0cHV0SWQpOwogIG91dHB1dEVsZW1lbnQuaW5uZXJIVE1MID0gJyc7CgogIGNvbnN0IHBpY2tlZFByb21pc2UgPSBuZXcgUHJvbWlzZSgocmVzb2x2ZSkgPT4gewogICAgaW5wdXRFbGVtZW50LmFkZEV2ZW50TGlzdGVuZXIoJ2NoYW5nZScsIChlKSA9PiB7CiAgICAgIHJlc29sdmUoZS50YXJnZXQuZmlsZXMpOwogICAgfSk7CiAgfSk7CgogIGNvbnN0IGNhbmNlbCA9IGRvY3VtZW50LmNyZWF0ZUVsZW1lbnQoJ2J1dHRvbicpOwogIGlucHV0RWxlbWVudC5wYXJlbnRFbGVtZW50LmFwcGVuZENoaWxkKGNhbmNlbCk7CiAgY2FuY2VsLnRleHRDb250ZW50ID0gJ0NhbmNlbCB1cGxvYWQnOwogIGNvbnN0IGNhbmNlbFByb21pc2UgPSBuZXcgUHJvbWlzZSgocmVzb2x2ZSkgPT4gewogICAgY2FuY2VsLm9uY2xpY2sgPSAoKSA9PiB7CiAgICAgIHJlc29sdmUobnVsbCk7CiAgICB9OwogIH0pOwoKICAvLyBXYWl0IGZvciB0aGUgdXNlciB0byBwaWNrIHRoZSBmaWxlcy4KICBjb25zdCBmaWxlcyA9IHlpZWxkIHsKICAgIHByb21pc2U6IFByb21pc2UucmFjZShbcGlja2VkUHJvbWlzZSwgY2FuY2VsUHJvbWlzZV0pLAogICAgcmVzcG9uc2U6IHsKICAgICAgYWN0aW9uOiAnc3RhcnRpbmcnLAogICAgfQogIH07CgogIGNhbmNlbC5yZW1vdmUoKTsKCiAgLy8gRGlzYWJsZSB0aGUgaW5wdXQgZWxlbWVudCBzaW5jZSBmdXJ0aGVyIHBpY2tzIGFyZSBub3QgYWxsb3dlZC4KICBpbnB1dEVsZW1lbnQuZGlzYWJsZWQgPSB0cnVlOwoKICBpZiAoIWZpbGVzKSB7CiAgICByZXR1cm4gewogICAgICByZXNwb25zZTogewogICAgICAgIGFjdGlvbjogJ2NvbXBsZXRlJywKICAgICAgfQogICAgfTsKICB9CgogIGZvciAoY29uc3QgZmlsZSBvZiBmaWxlcykgewogICAgY29uc3QgbGkgPSBkb2N1bWVudC5jcmVhdGVFbGVtZW50KCdsaScpOwogICAgbGkuYXBwZW5kKHNwYW4oZmlsZS5uYW1lLCB7Zm9udFdlaWdodDogJ2JvbGQnfSkpOwogICAgbGkuYXBwZW5kKHNwYW4oCiAgICAgICAgYCgke2ZpbGUudHlwZSB8fCAnbi9hJ30pIC0gJHtmaWxlLnNpemV9IGJ5dGVzLCBgICsKICAgICAgICBgbGFzdCBtb2RpZmllZDogJHsKICAgICAgICAgICAgZmlsZS5sYXN0TW9kaWZpZWREYXRlID8gZmlsZS5sYXN0TW9kaWZpZWREYXRlLnRvTG9jYWxlRGF0ZVN0cmluZygpIDoKICAgICAgICAgICAgICAgICAgICAgICAgICAgICAgICAgICAgJ24vYSd9IC0gYCkpOwogICAgY29uc3QgcGVyY2VudCA9IHNwYW4oJzAlIGRvbmUnKTsKICAgIGxpLmFwcGVuZENoaWxkKHBlcmNlbnQpOwoKICAgIG91dHB1dEVsZW1lbnQuYXBwZW5kQ2hpbGQobGkpOwoKICAgIGNvbnN0IGZpbGVEYXRhUHJvbWlzZSA9IG5ldyBQcm9taXNlKChyZXNvbHZlKSA9PiB7CiAgICAgIGNvbnN0IHJlYWRlciA9IG5ldyBGaWxlUmVhZGVyKCk7CiAgICAgIHJlYWRlci5vbmxvYWQgPSAoZSkgPT4gewogICAgICAgIHJlc29sdmUoZS50YXJnZXQucmVzdWx0KTsKICAgICAgfTsKICAgICAgcmVhZGVyLnJlYWRBc0FycmF5QnVmZmVyKGZpbGUpOwogICAgfSk7CiAgICAvLyBXYWl0IGZvciB0aGUgZGF0YSB0byBiZSByZWFkeS4KICAgIGxldCBmaWxlRGF0YSA9IHlpZWxkIHsKICAgICAgcHJvbWlzZTogZmlsZURhdGFQcm9taXNlLAogICAgICByZXNwb25zZTogewogICAgICAgIGFjdGlvbjogJ2NvbnRpbnVlJywKICAgICAgfQogICAgfTsKCiAgICAvLyBVc2UgYSBjaHVua2VkIHNlbmRpbmcgdG8gYXZvaWQgbWVzc2FnZSBzaXplIGxpbWl0cy4gU2VlIGIvNjIxMTU2NjAuCiAgICBsZXQgcG9zaXRpb24gPSAwOwogICAgd2hpbGUgKHBvc2l0aW9uIDwgZmlsZURhdGEuYnl0ZUxlbmd0aCkgewogICAgICBjb25zdCBsZW5ndGggPSBNYXRoLm1pbihmaWxlRGF0YS5ieXRlTGVuZ3RoIC0gcG9zaXRpb24sIE1BWF9QQVlMT0FEX1NJWkUpOwogICAgICBjb25zdCBjaHVuayA9IG5ldyBVaW50OEFycmF5KGZpbGVEYXRhLCBwb3NpdGlvbiwgbGVuZ3RoKTsKICAgICAgcG9zaXRpb24gKz0gbGVuZ3RoOwoKICAgICAgY29uc3QgYmFzZTY0ID0gYnRvYShTdHJpbmcuZnJvbUNoYXJDb2RlLmFwcGx5KG51bGwsIGNodW5rKSk7CiAgICAgIHlpZWxkIHsKICAgICAgICByZXNwb25zZTogewogICAgICAgICAgYWN0aW9uOiAnYXBwZW5kJywKICAgICAgICAgIGZpbGU6IGZpbGUubmFtZSwKICAgICAgICAgIGRhdGE6IGJhc2U2NCwKICAgICAgICB9LAogICAgICB9OwogICAgICBwZXJjZW50LnRleHRDb250ZW50ID0KICAgICAgICAgIGAke01hdGgucm91bmQoKHBvc2l0aW9uIC8gZmlsZURhdGEuYnl0ZUxlbmd0aCkgKiAxMDApfSUgZG9uZWA7CiAgICB9CiAgfQoKICAvLyBBbGwgZG9uZS4KICB5aWVsZCB7CiAgICByZXNwb25zZTogewogICAgICBhY3Rpb246ICdjb21wbGV0ZScsCiAgICB9CiAgfTsKfQoKc2NvcGUuZ29vZ2xlID0gc2NvcGUuZ29vZ2xlIHx8IHt9OwpzY29wZS5nb29nbGUuY29sYWIgPSBzY29wZS5nb29nbGUuY29sYWIgfHwge307CnNjb3BlLmdvb2dsZS5jb2xhYi5fZmlsZXMgPSB7CiAgX3VwbG9hZEZpbGVzLAogIF91cGxvYWRGaWxlc0NvbnRpbnVlLAp9Owp9KShzZWxmKTsK",
              "ok": true,
              "headers": [
                [
                  "content-type",
                  "application/javascript"
                ]
              ],
              "status": 200,
              "status_text": ""
            }
          },
          "base_uri": "https://localhost:8080/",
          "height": 463
        }
      },
      "source": [
        "uploaded=files.upload()\n",
        "df=pd.read_csv(io.BytesIO(uploaded['eurusd.csv']))\n",
        "df "
      ],
      "execution_count": 3,
      "outputs": [
        {
          "output_type": "display_data",
          "data": {
            "text/html": [
              "\n",
              "     <input type=\"file\" id=\"files-7aa0fa06-c380-4861-ac5e-4d6b3fe56499\" name=\"files[]\" multiple disabled\n",
              "        style=\"border:none\" />\n",
              "     <output id=\"result-7aa0fa06-c380-4861-ac5e-4d6b3fe56499\">\n",
              "      Upload widget is only available when the cell has been executed in the\n",
              "      current browser session. Please rerun this cell to enable.\n",
              "      </output>\n",
              "      <script src=\"/nbextensions/google.colab/files.js\"></script> "
            ],
            "text/plain": [
              "<IPython.core.display.HTML object>"
            ]
          },
          "metadata": {
            "tags": []
          }
        },
        {
          "output_type": "stream",
          "text": [
            "Saving eurusd.csv to eurusd.csv\n"
          ],
          "name": "stdout"
        },
        {
          "output_type": "execute_result",
          "data": {
            "text/html": [
              "<div>\n",
              "<style scoped>\n",
              "    .dataframe tbody tr th:only-of-type {\n",
              "        vertical-align: middle;\n",
              "    }\n",
              "\n",
              "    .dataframe tbody tr th {\n",
              "        vertical-align: top;\n",
              "    }\n",
              "\n",
              "    .dataframe thead th {\n",
              "        text-align: right;\n",
              "    }\n",
              "</style>\n",
              "<table border=\"1\" class=\"dataframe\">\n",
              "  <thead>\n",
              "    <tr style=\"text-align: right;\">\n",
              "      <th></th>\n",
              "      <th>Local time</th>\n",
              "      <th>Open</th>\n",
              "      <th>High</th>\n",
              "      <th>Low</th>\n",
              "      <th>Close</th>\n",
              "      <th>Volume</th>\n",
              "    </tr>\n",
              "  </thead>\n",
              "  <tbody>\n",
              "    <tr>\n",
              "      <th>0</th>\n",
              "      <td>01.01.2020 00:00:00.000 GMT+0330</td>\n",
              "      <td>1.12158</td>\n",
              "      <td>1.12160</td>\n",
              "      <td>1.12157</td>\n",
              "      <td>1.12160</td>\n",
              "      <td>25.13</td>\n",
              "    </tr>\n",
              "    <tr>\n",
              "      <th>1</th>\n",
              "      <td>01.01.2020 00:01:00.000 GMT+0330</td>\n",
              "      <td>1.12160</td>\n",
              "      <td>1.12163</td>\n",
              "      <td>1.12160</td>\n",
              "      <td>1.12163</td>\n",
              "      <td>3.03</td>\n",
              "    </tr>\n",
              "    <tr>\n",
              "      <th>2</th>\n",
              "      <td>01.01.2020 00:02:00.000 GMT+0330</td>\n",
              "      <td>1.12161</td>\n",
              "      <td>1.12170</td>\n",
              "      <td>1.12160</td>\n",
              "      <td>1.12169</td>\n",
              "      <td>21.30</td>\n",
              "    </tr>\n",
              "    <tr>\n",
              "      <th>3</th>\n",
              "      <td>01.01.2020 00:03:00.000 GMT+0330</td>\n",
              "      <td>1.12170</td>\n",
              "      <td>1.12173</td>\n",
              "      <td>1.12169</td>\n",
              "      <td>1.12173</td>\n",
              "      <td>11.02</td>\n",
              "    </tr>\n",
              "    <tr>\n",
              "      <th>4</th>\n",
              "      <td>01.01.2020 00:04:00.000 GMT+0330</td>\n",
              "      <td>1.12171</td>\n",
              "      <td>1.12171</td>\n",
              "      <td>1.12170</td>\n",
              "      <td>1.12170</td>\n",
              "      <td>14.81</td>\n",
              "    </tr>\n",
              "    <tr>\n",
              "      <th>...</th>\n",
              "      <td>...</td>\n",
              "      <td>...</td>\n",
              "      <td>...</td>\n",
              "      <td>...</td>\n",
              "      <td>...</td>\n",
              "      <td>...</td>\n",
              "    </tr>\n",
              "    <tr>\n",
              "      <th>262015</th>\n",
              "      <td>30.06.2020 23:55:00.000 GMT+0430</td>\n",
              "      <td>1.12278</td>\n",
              "      <td>1.12286</td>\n",
              "      <td>1.12277</td>\n",
              "      <td>1.12286</td>\n",
              "      <td>37.09</td>\n",
              "    </tr>\n",
              "    <tr>\n",
              "      <th>262016</th>\n",
              "      <td>30.06.2020 23:56:00.000 GMT+0430</td>\n",
              "      <td>1.12285</td>\n",
              "      <td>1.12285</td>\n",
              "      <td>1.12271</td>\n",
              "      <td>1.12272</td>\n",
              "      <td>167.27</td>\n",
              "    </tr>\n",
              "    <tr>\n",
              "      <th>262017</th>\n",
              "      <td>30.06.2020 23:57:00.000 GMT+0430</td>\n",
              "      <td>1.12273</td>\n",
              "      <td>1.12286</td>\n",
              "      <td>1.12271</td>\n",
              "      <td>1.12282</td>\n",
              "      <td>85.87</td>\n",
              "    </tr>\n",
              "    <tr>\n",
              "      <th>262018</th>\n",
              "      <td>30.06.2020 23:58:00.000 GMT+0430</td>\n",
              "      <td>1.12285</td>\n",
              "      <td>1.12290</td>\n",
              "      <td>1.12281</td>\n",
              "      <td>1.12288</td>\n",
              "      <td>118.47</td>\n",
              "    </tr>\n",
              "    <tr>\n",
              "      <th>262019</th>\n",
              "      <td>30.06.2020 23:59:00.000 GMT+0430</td>\n",
              "      <td>1.12289</td>\n",
              "      <td>1.12303</td>\n",
              "      <td>1.12289</td>\n",
              "      <td>1.12301</td>\n",
              "      <td>83.81</td>\n",
              "    </tr>\n",
              "  </tbody>\n",
              "</table>\n",
              "<p>262020 rows × 6 columns</p>\n",
              "</div>"
            ],
            "text/plain": [
              "                              Local time     Open  ...    Close  Volume\n",
              "0       01.01.2020 00:00:00.000 GMT+0330  1.12158  ...  1.12160   25.13\n",
              "1       01.01.2020 00:01:00.000 GMT+0330  1.12160  ...  1.12163    3.03\n",
              "2       01.01.2020 00:02:00.000 GMT+0330  1.12161  ...  1.12169   21.30\n",
              "3       01.01.2020 00:03:00.000 GMT+0330  1.12170  ...  1.12173   11.02\n",
              "4       01.01.2020 00:04:00.000 GMT+0330  1.12171  ...  1.12170   14.81\n",
              "...                                  ...      ...  ...      ...     ...\n",
              "262015  30.06.2020 23:55:00.000 GMT+0430  1.12278  ...  1.12286   37.09\n",
              "262016  30.06.2020 23:56:00.000 GMT+0430  1.12285  ...  1.12272  167.27\n",
              "262017  30.06.2020 23:57:00.000 GMT+0430  1.12273  ...  1.12282   85.87\n",
              "262018  30.06.2020 23:58:00.000 GMT+0430  1.12285  ...  1.12288  118.47\n",
              "262019  30.06.2020 23:59:00.000 GMT+0430  1.12289  ...  1.12301   83.81\n",
              "\n",
              "[262020 rows x 6 columns]"
            ]
          },
          "metadata": {
            "tags": []
          },
          "execution_count": 3
        }
      ]
    },
    {
      "cell_type": "code",
      "metadata": {
        "id": "6iAb8jtt512j",
        "outputId": "38d8b5f5-a751-4808-8894-d7f961f4f2b2",
        "colab": {
          "base_uri": "https://localhost:8080/",
          "height": 235
        }
      },
      "source": [
        "close_column=df['Close']\n",
        "date_column=df['Local time']\n",
        "print(close_column)"
      ],
      "execution_count": 5,
      "outputs": [
        {
          "output_type": "stream",
          "text": [
            "0         1.12160\n",
            "1         1.12163\n",
            "2         1.12169\n",
            "3         1.12173\n",
            "4         1.12170\n",
            "           ...   \n",
            "262015    1.12286\n",
            "262016    1.12272\n",
            "262017    1.12282\n",
            "262018    1.12288\n",
            "262019    1.12301\n",
            "Name: Close, Length: 262020, dtype: float64\n"
          ],
          "name": "stdout"
        }
      ]
    },
    {
      "cell_type": "code",
      "metadata": {
        "id": "XQBkaQLZ6FUm"
      },
      "source": [
        "df1=df.reset_index()['Close']"
      ],
      "execution_count": 8,
      "outputs": []
    },
    {
      "cell_type": "code",
      "metadata": {
        "id": "m3EXQRFi7_Z1",
        "outputId": "aa136985-49c5-4034-d234-ab80cf1c9da0",
        "colab": {
          "base_uri": "https://localhost:8080/",
          "height": 235
        }
      },
      "source": [
        "df1[1228:]"
      ],
      "execution_count": 9,
      "outputs": [
        {
          "output_type": "execute_result",
          "data": {
            "text/plain": [
              "1228      1.12076\n",
              "1229      1.12076\n",
              "1230      1.12076\n",
              "1231      1.12076\n",
              "1232      1.12076\n",
              "           ...   \n",
              "262015    1.12286\n",
              "262016    1.12272\n",
              "262017    1.12282\n",
              "262018    1.12288\n",
              "262019    1.12301\n",
              "Name: Close, Length: 260792, dtype: float64"
            ]
          },
          "metadata": {
            "tags": []
          },
          "execution_count": 9
        }
      ]
    },
    {
      "cell_type": "code",
      "metadata": {
        "id": "7bSHEEy88Qdx",
        "outputId": "5eb03cd9-84b7-465c-87e9-1ee72a5f7591",
        "colab": {
          "base_uri": "https://localhost:8080/",
          "height": 35
        }
      },
      "source": [
        "df1.shape"
      ],
      "execution_count": 10,
      "outputs": [
        {
          "output_type": "execute_result",
          "data": {
            "text/plain": [
              "(262020,)"
            ]
          },
          "metadata": {
            "tags": []
          },
          "execution_count": 10
        }
      ]
    },
    {
      "cell_type": "code",
      "metadata": {
        "id": "EhmQ2xnn8fZA",
        "outputId": "baf857ae-d661-4593-9846-16abeaa87ca0",
        "colab": {
          "base_uri": "https://localhost:8080/",
          "height": 283
        }
      },
      "source": [
        "plt.plot(df1)"
      ],
      "execution_count": 12,
      "outputs": [
        {
          "output_type": "execute_result",
          "data": {
            "text/plain": [
              "[<matplotlib.lines.Line2D at 0x7fae7f3284e0>]"
            ]
          },
          "metadata": {
            "tags": []
          },
          "execution_count": 12
        },
        {
          "output_type": "display_data",
          "data": {
            "image/png": "[encoded data removed]",
            "text/plain": [
              "<Figure size 432x288 with 1 Axes>"
            ]
          },
          "metadata": {
            "tags": [],
            "needs_background": "light"
          }
        }
      ]
    },
    {
      "cell_type": "code",
      "metadata": {
        "id": "nYOw7p_28kgx"
      },
      "source": [
        "scaler=MinMaxScaler(feature_range=(0,1))\n",
        "df1=scaler.fit_transform(np.array(df1).reshape(-1,1))"
      ],
      "execution_count": 14,
      "outputs": []
    },
    {
      "cell_type": "code",
      "metadata": {
        "id": "eUlCateA-UM1",
        "outputId": "2c00f561-9ac2-4edc-9273-1e70d1ba6cb2",
        "colab": {
          "base_uri": "https://localhost:8080/",
          "height": 145
        }
      },
      "source": [
        "print(df1)"
      ],
      "execution_count": 17,
      "outputs": [
        {
          "output_type": "stream",
          "text": [
            "[[0.68378091]\n",
            " [0.68413581]\n",
            " [0.68484562]\n",
            " ...\n",
            " [0.69821365]\n",
            " [0.69892346]\n",
            " [0.70046137]]\n"
          ],
          "name": "stdout"
        }
      ]
    },
    {
      "cell_type": "code",
      "metadata": {
        "id": "rP4OoXPG9U7N",
        "outputId": "9f653ff8-30d4-4337-a4a6-66157b99a513",
        "colab": {
          "base_uri": "https://localhost:8080/",
          "height": 35
        }
      },
      "source": [
        "df1.shape"
      ],
      "execution_count": 15,
      "outputs": [
        {
          "output_type": "execute_result",
          "data": {
            "text/plain": [
              "(262020, 1)"
            ]
          },
          "metadata": {
            "tags": []
          },
          "execution_count": 15
        }
      ]
    },
    {
      "cell_type": "code",
      "metadata": {
        "id": "BpHvH7rpA9Zi",
        "outputId": "7968413e-0f28-4cf4-f5a2-6a3bfbe72d8d",
        "colab": {
          "base_uri": "https://localhost:8080/",
          "height": 145
        }
      },
      "source": [
        "train_data"
      ],
      "execution_count": 19,
      "outputs": [
        {
          "output_type": "execute_result",
          "data": {
            "text/plain": [
              "array([[0.68378091],\n",
              "       [0.68413581],\n",
              "       [0.68484562],\n",
              "       ...,\n",
              "       [0.22347096],\n",
              "       [0.22311605],\n",
              "       [0.22299775]])"
            ]
          },
          "metadata": {
            "tags": []
          },
          "execution_count": 19
        }
      ]
    },
    {
      "cell_type": "code",
      "metadata": {
        "id": "7phnkT5x9XKd"
      },
      "source": [
        "#spliting dataset into train and test split \n",
        "training_size=int(len(df1)*0.65)\n",
        "test_size=len(df1)-training_size\n",
        "train_data,test_data=df1[0:training_size,:],df1[training_size:len(df1),:1]\n"
      ],
      "execution_count": 30,
      "outputs": []
    },
    {
      "cell_type": "code",
      "metadata": {
        "id": "hLM-FzUzAxTA",
        "outputId": "d6e17bc3-93c7-42d7-c60c-826a9604a020",
        "colab": {
          "base_uri": "https://localhost:8080/",
          "height": 35
        }
      },
      "source": [
        "training_size,test_size"
      ],
      "execution_count": 31,
      "outputs": [
        {
          "output_type": "execute_result",
          "data": {
            "text/plain": [
              "(170313, 91707)"
            ]
          },
          "metadata": {
            "tags": []
          },
          "execution_count": 31
        }
      ]
    },
    {
      "cell_type": "code",
      "metadata": {
        "id": "w3yvcUAT-PRA"
      },
      "source": [
        "def create_dataset(dataset, time_step=1):\n",
        "  dataX, dataY=[],[]\n",
        "  for i in range(len(dataset)-time_step-1):\n",
        "    a=dataset[i:(i+time_step),0]\n",
        "    dataX.append(a)\n",
        "    dataY.append(dataset[i+time_step,0])\n",
        "  return np.array(dataX),np.array(dataY)"
      ],
      "execution_count": 50,
      "outputs": []
    },
    {
      "cell_type": "code",
      "metadata": {
        "id": "FrLeyD-3Djol"
      },
      "source": [
        "time_step=100 \n",
        "x_train, y_train = create_dataset(train_data, time_step)\n",
        "x_test, ytest=create_dataset(test_data, time_step)"
      ],
      "execution_count": 51,
      "outputs": []
    },
    {
      "cell_type": "code",
      "metadata": {
        "id": "SaDN1uerEKoI",
        "outputId": "b371e95f-97b5-44f2-8ba6-304b66465952",
        "colab": {
          "base_uri": "https://localhost:8080/",
          "height": 145
        }
      },
      "source": [
        "print(x_train)"
      ],
      "execution_count": 52,
      "outputs": [
        {
          "output_type": "stream",
          "text": [
            "[[0.68378091 0.68413581 0.68484562 ... 0.67384361 0.67384361 0.67384361]\n",
            " [0.68413581 0.68484562 0.68531882 ... 0.67384361 0.67384361 0.67384361]\n",
            " [0.68484562 0.68531882 0.68496392 ... 0.67384361 0.67384361 0.67384361]\n",
            " ...\n",
            " [0.2279664  0.22997752 0.23068733 ... 0.22382586 0.22347096 0.22394416]\n",
            " [0.22997752 0.23068733 0.23127884 ... 0.22347096 0.22394416 0.22406246]\n",
            " [0.23068733 0.23127884 0.23175204 ... 0.22394416 0.22406246 0.22347096]]\n"
          ],
          "name": "stdout"
        }
      ]
    },
    {
      "cell_type": "code",
      "metadata": {
        "id": "WpsprqyAH957",
        "outputId": "782c0d14-eccc-41b7-f153-42b457fe6a39",
        "colab": {
          "base_uri": "https://localhost:8080/",
          "height": 72
        }
      },
      "source": [
        "print(x_test.shape),print(ytest.shape)"
      ],
      "execution_count": 53,
      "outputs": [
        {
          "output_type": "stream",
          "text": [
            "(91606, 100)\n",
            "(91606,)\n"
          ],
          "name": "stdout"
        },
        {
          "output_type": "execute_result",
          "data": {
            "text/plain": [
              "(None, None)"
            ]
          },
          "metadata": {
            "tags": []
          },
          "execution_count": 53
        }
      ]
    },
    {
      "cell_type": "code",
      "metadata": {
        "id": "bLmIoq7TIq3H"
      },
      "source": [
        "x_train=x_train.reshape(x_train.shape[0],x_train.shape[1],1)\n",
        "x_test=x_test.reshape(x_test.shape[0],x_test.shape[1],1)"
      ],
      "execution_count": 56,
      "outputs": []
    },
    {
      "cell_type": "code",
      "metadata": {
        "id": "917ridscIdWE"
      },
      "source": [
        "model=Sequential()\n",
        "model.add(LSTM(50,return_sequences=True,input_shape=(100,1)))\n",
        "model.add(LSTM(50,return_sequences=True))\n",
        "model.add(LSTM(50))\n",
        "model.add(Dense(1))\n",
        "model.compile(loss='mean_squared_error',optimizer='adam')"
      ],
      "execution_count": 63,
      "outputs": []
    },
    {
      "cell_type": "code",
      "metadata": {
        "id": "PlFFyHdoLnp2",
        "outputId": "03338934-5030-4ece-df2a-9a12411e7e9a",
        "colab": {
          "base_uri": "https://localhost:8080/",
          "height": 308
        }
      },
      "source": [
        "model.summary()"
      ],
      "execution_count": 64,
      "outputs": [
        {
          "output_type": "stream",
          "text": [
            "Model: \"sequential_3\"\n",
            "_________________________________________________________________\n",
            "Layer (type)                 Output Shape              Param #   \n",
            "=================================================================\n",
            "lstm (LSTM)                  (None, 100, 50)           10400     \n",
            "_________________________________________________________________\n",
            "lstm_1 (LSTM)                (None, 100, 50)           20200     \n",
            "_________________________________________________________________\n",
            "lstm_2 (LSTM)                (None, 50)                20200     \n",
            "_________________________________________________________________\n",
            "dense (Dense)                (None, 1)                 51        \n",
            "=================================================================\n",
            "Total params: 50,851\n",
            "Trainable params: 50,851\n",
            "Non-trainable params: 0\n",
            "_________________________________________________________________\n"
          ],
          "name": "stdout"
        }
      ]
    },
    {
      "cell_type": "code",
      "metadata": {
        "id": "1OJm3m0_L73a",
        "outputId": "cf107d6c-872d-4220-a5b3-e5e9b167935f",
        "colab": {
          "base_uri": "https://localhost:8080/",
          "height": 419
        }
      },
      "source": [
        "model.fit(x_train,y_train,validation_data=(x_test,ytest),epochs=10,batch_size=64,verbose=1)"
      ],
      "execution_count": 72,
      "outputs": [
        {
          "output_type": "stream",
          "text": [
            "Epoch 1/10\n",
            "2660/2660 [==============================] - 527s 198ms/step - loss: 5.4416e-06 - val_loss: 1.0517e-05\n",
            "Epoch 2/10\n",
            "2660/2660 [==============================] - 526s 198ms/step - loss: 5.3553e-06 - val_loss: 8.1702e-06\n",
            "Epoch 3/10\n",
            "2660/2660 [==============================] - 529s 199ms/step - loss: 5.1662e-06 - val_loss: 5.0389e-06\n",
            "Epoch 4/10\n",
            "2660/2660 [==============================] - 532s 200ms/step - loss: 5.1459e-06 - val_loss: 4.1896e-06\n",
            "Epoch 5/10\n",
            "2660/2660 [==============================] - 537s 202ms/step - loss: 5.1603e-06 - val_loss: 3.3900e-06\n",
            "Epoch 6/10\n",
            "2660/2660 [==============================] - 527s 198ms/step - loss: 4.8951e-06 - val_loss: 3.6999e-06\n",
            "Epoch 7/10\n",
            "2660/2660 [==============================] - 529s 199ms/step - loss: 5.1161e-06 - val_loss: 2.7028e-06\n",
            "Epoch 8/10\n",
            "2660/2660 [==============================] - 526s 198ms/step - loss: 4.8738e-06 - val_loss: 5.6031e-06\n",
            "Epoch 9/10\n",
            "2660/2660 [==============================] - 520s 196ms/step - loss: 4.8668e-06 - val_loss: 3.0127e-06\n",
            "Epoch 10/10\n",
            "2660/2660 [==============================] - 523s 197ms/step - loss: 4.7180e-06 - val_loss: 4.1601e-06\n"
          ],
          "name": "stdout"
        },
        {
          "output_type": "execute_result",
          "data": {
            "text/plain": [
              "<tensorflow.python.keras.callbacks.History at 0x7fae37608550>"
            ]
          },
          "metadata": {
            "tags": []
          },
          "execution_count": 72
        }
      ]
    },
    {
      "cell_type": "code",
      "metadata": {
        "id": "P0MokR52VkHn"
      },
      "source": [
        "#do the predictions\n",
        "train_predict=model.predict(x_train)\n",
        "test_predict=model.predict(x_test)"
      ],
      "execution_count": 74,
      "outputs": []
    },
    {
      "cell_type": "code",
      "metadata": {
        "id": "q7f1BId4WPqE"
      },
      "source": [
        "#transformback to orginal form \n",
        "train_predict=scaler.inverse_transform(train_predict)\n",
        "test_predict=scaler.inverse_transform(test_predict)"
      ],
      "execution_count": 75,
      "outputs": []
    },
    {
      "cell_type": "code",
      "metadata": {
        "id": "m91FEhQpUQbW",
        "outputId": "04ac4a7c-add5-4bc8-bb4d-f37b2001b55f",
        "colab": {
          "base_uri": "https://localhost:8080/",
          "height": 35
        }
      },
      "source": [
        "#test data rmse\n",
        "math.sqrt(mean_squared_error(y_train,train_predict))"
      ],
      "execution_count": 79,
      "outputs": [
        {
          "output_type": "execute_result",
          "data": {
            "text/plain": [
              "0.7008455435640637"
            ]
          },
          "metadata": {
            "tags": []
          },
          "execution_count": 79
        }
      ]
    },
    {
      "cell_type": "code",
      "metadata": {
        "id": "Cyi7jCSDVh9Y",
        "outputId": "0a102e09-b7e3-4613-8beb-f1008e3d69d0",
        "colab": {
          "base_uri": "https://localhost:8080/",
          "height": 283
        }
      },
      "source": [
        "plt.plot(test_predict)"
      ],
      "execution_count": 80,
      "outputs": [
        {
          "output_type": "execute_result",
          "data": {
            "text/plain": [
              "[<matplotlib.lines.Line2D at 0x7fae352a8a58>]"
            ]
          },
          "metadata": {
            "tags": []
          },
          "execution_count": 80
        },
        {
          "output_type": "display_data",
          "data": {
            "image/png": "[encoded data removed]",
            "text/plain": [
              "<Figure size 432x288 with 1 Axes>"
            ]
          },
          "metadata": {
            "tags": [],
            "needs_background": "light"
          }
        }
      ]
    },
    {
      "cell_type": "code",
      "metadata": {
        "id": "5eePLFwrBOl4",
        "outputId": "f45dfc65-9b08-4951-92d8-e7196fe41552",
        "colab": {
          "base_uri": "https://localhost:8080/",
          "height": 35
        }
      },
      "source": [
        "len(test_data)"
      ],
      "execution_count": 81,
      "outputs": [
        {
          "output_type": "execute_result",
          "data": {
            "text/plain": [
              "91707"
            ]
          },
          "metadata": {
            "tags": []
          },
          "execution_count": 81
        }
      ]
    },
    {
      "cell_type": "code",
      "metadata": {
        "id": "8VtnTQs8CAqY",
        "outputId": "659b3b45-deff-41a5-dabe-d917015e49a8",
        "colab": {
          "base_uri": "https://localhost:8080/",
          "height": 35
        }
      },
      "source": [
        "x_input=test_data[81707:].reshape(1,-1)\n",
        "x_input.shape"
      ],
      "execution_count": 84,
      "outputs": [
        {
          "output_type": "execute_result",
          "data": {
            "text/plain": [
              "(1, 10000)"
            ]
          },
          "metadata": {
            "tags": []
          },
          "execution_count": 84
        }
      ]
    },
    {
      "cell_type": "code",
      "metadata": {
        "id": "is59Q_v8DezL",
        "outputId": "319ca7b9-c812-4209-8f70-d7b21f59f6c9",
        "colab": {
          "base_uri": "https://localhost:8080/",
          "height": 1000
        }
      },
      "source": [
        "temp_input=list(x_input)\n",
        "temp_input=temp_input[0].tolist()\n",
        "temp_input"
      ],
      "execution_count": 87,
      "outputs": [
        {
          "output_type": "execute_result",
          "data": {
            "text/plain": [
              "[0.7917898970779618,\n",
              " 0.7913166922985937,\n",
              " 0.7910800899089097,\n",
              " 0.7907251863243818,\n",
              " 0.7907251863243818,\n",
              " 0.7916715958831215,\n",
              " 0.7922631018573316,\n",
              " 0.7922631018573316,\n",
              " 0.793209511416066,\n",
              " 0.791908198272802,\n",
              " 0.7929729090263837,\n",
              " 0.793564415000592,\n",
              " 0.7936827161954341,\n",
              " 0.7936827161954341,\n",
              " 0.794865728143856,\n",
              " 0.7951023305335401,\n",
              " 0.794984029338698,\n",
              " 0.7951023305335401,\n",
              " 0.7952206317283839,\n",
              " 0.7952206317283839,\n",
              " 0.7956938365077502,\n",
              " 0.7958121377025922,\n",
              " 0.7958121377025922,\n",
              " 0.7958121377025922,\n",
              " 0.7958121377025922,\n",
              " 0.7958121377025922,\n",
              " 0.7956938365077502,\n",
              " 0.7955755353129099,\n",
              " 0.7955755353129099,\n",
              " 0.7958121377025922,\n",
              " 0.7958121377025922,\n",
              " 0.7956938365077502,\n",
              " 0.7956938365077502,\n",
              " 0.7956938365077502,\n",
              " 0.796285342481962,\n",
              " 0.796403643676804,\n",
              " 0.796403643676804,\n",
              " 0.796285342481962,\n",
              " 0.7954572341180661,\n",
              " 0.7954572341180661,\n",
              " 0.793209511416066,\n",
              " 0.7930912102212258,\n",
              " 0.7930912102212258,\n",
              " 0.7930912102212258,\n",
              " 0.7930912102212258,\n",
              " 0.7930912102212258,\n",
              " 0.7920264994676458,\n",
              " 0.793564415000592,\n",
              " 0.793564415000592,\n",
              " 0.793564415000592,\n",
              " 0.793564415000592,\n",
              " 0.7938010173902779,\n",
              " 0.7939193185851199,\n",
              " 0.7943925233644862,\n",
              " 0.7955755353129099,\n",
              " 0.79451082455933,\n",
              " 0.79451082455933,\n",
              " 0.794865728143856,\n",
              " 0.7938010173902779,\n",
              " 0.7958121377025922,\n",
              " 0.793564415000592,\n",
              " 0.7954572341180661,\n",
              " 0.7936827161954341,\n",
              " 0.7936827161954341,\n",
              " 0.794865728143856,\n",
              " 0.7953389329232241,\n",
              " 0.7958121377025922,\n",
              " 0.7930912102212258,\n",
              " 0.793564415000592,\n",
              " 0.7943925233644862,\n",
              " 0.7938010173902779,\n",
              " 0.7934461138057518,\n",
              " 0.7930912102212258,\n",
              " 0.793209511416066,\n",
              " 0.793564415000592,\n",
              " 0.7943925233644862,\n",
              " 0.7954572341180661,\n",
              " 0.7955755353129099,\n",
              " 0.7954572341180661,\n",
              " 0.7954572341180661,\n",
              " 0.7943925233644862,\n",
              " 0.7938010173902779,\n",
              " 0.7938010173902779,\n",
              " 0.793564415000592,\n",
              " 0.7943925233644862,\n",
              " 0.7942742221696459,\n",
              " 0.7947474269490122,\n",
              " 0.794984029338698,\n",
              " 0.7958121377025922,\n",
              " 0.796285342481962,\n",
              " 0.7966402460664881,\n",
              " 0.7966402460664881,\n",
              " 0.7973500532355384,\n",
              " 0.7978232580149083,\n",
              " 0.7973500532355384,\n",
              " 0.7972317520406964,\n",
              " 0.7972317520406964,\n",
              " 0.7960487400922762,\n",
              " 0.79451082455933,\n",
              " 0.7942742221696459,\n",
              " 0.7947474269490122,\n",
              " 0.7942742221696459,\n",
              " 0.79451082455933,\n",
              " 0.794629125754172,\n",
              " 0.794629125754172,\n",
              " 0.7947474269490122,\n",
              " 0.794865728143856,\n",
              " 0.7947474269490122,\n",
              " 0.794865728143856,\n",
              " 0.794984029338698,\n",
              " 0.794984029338698,\n",
              " 0.794984029338698,\n",
              " 0.7953389329232241,\n",
              " 0.7965219448716443,\n",
              " 0.7965219448716443,\n",
              " 0.7966402460664881,\n",
              " 0.7961670412871182,\n",
              " 0.7965219448716443,\n",
              " 0.7961670412871182,\n",
              " 0.796285342481962,\n",
              " 0.7958121377025922,\n",
              " 0.7955755353129099,\n",
              " 0.7958121377025922,\n",
              " 0.7958121377025922,\n",
              " 0.7958121377025922,\n",
              " 0.7960487400922762,\n",
              " 0.7952206317283839,\n",
              " 0.7938010173902779,\n",
              " 0.7920264994676458,\n",
              " 0.7924997042470139,\n",
              " 0.791908198272802,\n",
              " 0.7926180054418577,\n",
              " 0.7926180054418577,\n",
              " 0.7929729090263837,\n",
              " 0.7936827161954341,\n",
              " 0.7938010173902779,\n",
              " 0.7938010173902779,\n",
              " 0.7938010173902779,\n",
              " 0.7956938365077502,\n",
              " 0.7951023305335401,\n",
              " 0.7954572341180661,\n",
              " 0.7954572341180661,\n",
              " 0.7941559209748039,\n",
              " 0.7939193185851199,\n",
              " 0.7929729090263837,\n",
              " 0.7929729090263837,\n",
              " 0.7928546078315435,\n",
              " 0.7940376197799637,\n",
              " 0.7936827161954341,\n",
              " 0.7938010173902779,\n",
              " 0.7939193185851199,\n",
              " 0.7938010173902779,\n",
              " 0.794865728143856,\n",
              " 0.7953389329232241,\n",
              " 0.7936827161954341,\n",
              " 0.7930912102212258,\n",
              " 0.7924997042470139,\n",
              " 0.793209511416066,\n",
              " 0.793327812610908,\n",
              " 0.7930912102212258,\n",
              " 0.7942742221696459,\n",
              " 0.793209511416066,\n",
              " 0.7940376197799637,\n",
              " 0.79451082455933,\n",
              " 0.7922631018573316,\n",
              " 0.793327812610908,\n",
              " 0.7939193185851199,\n",
              " 0.7923814030521719,\n",
              " 0.7929729090263837,\n",
              " 0.7926180054418577,\n",
              " 0.7929729090263837,\n",
              " 0.793564415000592,\n",
              " 0.7943925233644862,\n",
              " 0.794629125754172,\n",
              " 0.7956938365077502,\n",
              " 0.7954572341180661,\n",
              " 0.7954572341180661,\n",
              " 0.796285342481962,\n",
              " 0.7967585472613301,\n",
              " 0.7968768484561704,\n",
              " 0.7969951496510124,\n",
              " 0.7982964627942746,\n",
              " 0.7981781615994343,\n",
              " 0.7988879687684864,\n",
              " 0.7991245711581705,\n",
              " 0.7967585472613301,\n",
              " 0.7967585472613301,\n",
              " 0.7967585472613301,\n",
              " 0.7974683544303822,\n",
              " 0.7978232580149083,\n",
              " 0.7992428723530143,\n",
              " 0.7984147639891166,\n",
              " 0.8004258843014345,\n",
              " 0.8007807878859587,\n",
              " 0.8026736070034328,\n",
              " 0.802437004613747,\n",
              " 0.8033834141724849,\n",
              " 0.8057494380693253,\n",
              " 0.8042115225363791,\n",
              " 0.805512835679643,\n",
              " 0.8050396309002732,\n",
              " 0.8057494380693253,\n",
              " 0.8063409440435372,\n",
              " 0.8059860404590093,\n",
              " 0.8057494380693253,\n",
              " 0.806459245238381,\n",
              " 0.8058677392641691,\n",
              " 0.8065775464332212,\n",
              " 0.8061043416538514,\n",
              " 0.8057494380693253,\n",
              " 0.8061043416538514,\n",
              " 0.8077605583816414,\n",
              " 0.8076422571868012,\n",
              " 0.8076422571868012,\n",
              " 0.8065775464332212,\n",
              " 0.8074056547971153,\n",
              " 0.8074056547971153,\n",
              " 0.8076422571868012,\n",
              " 0.8065775464332212,\n",
              " 0.8061043416538514,\n",
              " 0.8030285105879589,\n",
              " 0.8039749201466968,\n",
              " 0.803738317757011,\n",
              " 0.803501715367327,\n",
              " 0.803738317757011,\n",
              " 0.8032651129776411,\n",
              " 0.8025553058085908,\n",
              " 0.8022004022240647,\n",
              " 0.8022004022240647,\n",
              " 0.802437004613747,\n",
              " 0.8032651129776411,\n",
              " 0.8033834141724849,\n",
              " 0.802082101029221,\n",
              " 0.8022004022240647,\n",
              " 0.8018454986395387,\n",
              " 0.8014905950550126,\n",
              " 0.8008990890808008,\n",
              " 0.8013722938601688,\n",
              " 0.8003075831065924,\n",
              " 0.8017271974446949,\n",
              " 0.8031468117827991,\n",
              " 0.803501715367327,\n",
              " 0.8025553058085908,\n",
              " 0.8030285105879589,\n",
              " 0.8048030285105892,\n",
              " 0.8030285105879589,\n",
              " 0.8029102093931186,\n",
              " 0.8026736070034328,\n",
              " 0.803738317757011,\n",
              " 0.8036200165621672,\n",
              " 0.802437004613747,\n",
              " 0.8014905950550126,\n",
              " 0.8017271974446949,\n",
              " 0.8016088962498547,\n",
              " 0.8014905950550126,\n",
              " 0.8013722938601688,\n",
              " 0.8017271974446949,\n",
              " 0.8016088962498547,\n",
              " 0.8010173902756428,\n",
              " 0.8003075831065924,\n",
              " 0.8008990890808008,\n",
              " 0.8013722938601688,\n",
              " 0.8045664261209051,\n",
              " 0.8039749201466968,\n",
              " 0.8048030285105892,\n",
              " 0.8056311368744833,\n",
              " 0.8068141488229035,\n",
              " 0.8071690524074295,\n",
              " 0.8076422571868012,\n",
              " 0.8082337631610095,\n",
              " 0.8092984739145876,\n",
              " 0.8095350763042699,\n",
              " 0.8102448834733256,\n",
              " 0.8105997870578516,\n",
              " 0.811309594226902,\n",
              " 0.8105997870578516,\n",
              " 0.8105997870578516,\n",
              " 0.8110729918372197,\n",
              " 0.8107180882526919,\n",
              " 0.8098899798887995,\n",
              " 0.8105997870578516,\n",
              " 0.8103631846681676,\n",
              " 0.8102448834733256,\n",
              " 0.8098899798887995,\n",
              " 0.8096533774991137,\n",
              " 0.8117827990062718,\n",
              " 0.8121377025907979,\n",
              " 0.8120194013959541,\n",
              " 0.8124926061753239,\n",
              " 0.8122560037856399,\n",
              " 0.8115461966165878,\n",
              " 0.8117827990062718,\n",
              " 0.8119011002011121,\n",
              " 0.8119011002011121,\n",
              " 0.8119011002011121,\n",
              " 0.8095350763042699,\n",
              " 0.8092984739145876,\n",
              " 0.8097716786939557,\n",
              " 0.8092984739145876,\n",
              " 0.8091801727197474,\n",
              " 0.8091801727197474,\n",
              " 0.8070507512125893,\n",
              " 0.8063409440435372,\n",
              " 0.8053945344847993,\n",
              " 0.8056311368744833,\n",
              " 0.8053945344847993,\n",
              " 0.8053945344847993,\n",
              " 0.8042115225363791,\n",
              " 0.8031468117827991,\n",
              " 0.8026736070034328,\n",
              " 0.8022004022240647,\n",
              " 0.7956938365077502,\n",
              " 0.7956938365077502,\n",
              " 0.7974683544303822,\n",
              " 0.7982964627942746,\n",
              " 0.802082101029221,\n",
              " 0.8030285105879589,\n",
              " 0.802437004613747,\n",
              " 0.8045664261209051,\n",
              " 0.806459245238381,\n",
              " 0.8068141488229035,\n",
              " 0.8070507512125893,\n",
              " 0.8087069679403793,\n",
              " 0.8077605583816414,\n",
              " 0.8089435703300616,\n",
              " 0.8110729918372197,\n",
              " 0.8105997870578516,\n",
              " 0.8102448834733256,\n",
              " 0.811309594226902,\n",
              " 0.8101265822784818,\n",
              " 0.8101265822784818,\n",
              " 0.8095350763042699,\n",
              " 0.8100082810836415,\n",
              " 0.8107180882526919,\n",
              " 0.8104814858630078,\n",
              " 0.8097716786939557,\n",
              " 0.8094167751094297,\n",
              " 0.8101265822784818,\n",
              " 0.8083520643558497,\n",
              " 0.8084703655506935,\n",
              " 0.8098899798887995,\n",
              " 0.8122560037856399,\n",
              " 0.8123743049804837,\n",
              " 0.8115461966165878,\n",
              " 0.8121377025907979,\n",
              " 0.8122560037856399,\n",
              " 0.8116644978114316,\n",
              " 0.8121377025907979,\n",
              " 0.8120194013959541,\n",
              " 0.8111912930320617,\n",
              " 0.8105997870578516,\n",
              " 0.8095350763042699,\n",
              " 0.8083520643558497,\n",
              " 0.8083520643558497,\n",
              " 0.8077605583816414,\n",
              " 0.8069324500177473,\n",
              " 0.8074056547971153,\n",
              " 0.8071690524074295,\n",
              " 0.8088252691352213,\n",
              " 0.8079971607713272,\n",
              " 0.8082337631610095,\n",
              " 0.8074056547971153,\n",
              " 0.805512835679643,\n",
              " 0.8061043416538514,\n",
              " 0.8039749201466968,\n",
              " 0.8043298237312229,\n",
              " 0.8042115225363791,\n",
              " 0.8043298237312229,\n",
              " 0.8045664261209051,\n",
              " 0.8042115225363791,\n",
              " 0.8033834141724849,\n",
              " 0.8033834141724849,\n",
              " 0.8040932213415388,\n",
              " 0.803738317757011,\n",
              " 0.802437004613747,\n",
              " 0.8027919081982766,\n",
              " 0.8044481249260631,\n",
              " 0.805157932095117,\n",
              " 0.8058677392641691,\n",
              " 0.8058677392641691,\n",
              " 0.8063409440435372,\n",
              " 0.805157932095117,\n",
              " 0.803501715367327,\n",
              " 0.8023187034189068,\n",
              " 0.8022004022240647,\n",
              " 0.8018454986395387,\n",
              " 0.8023187034189068,\n",
              " 0.802437004613747,\n",
              " 0.8017271974446949,\n",
              " 0.8018454986395387,\n",
              " 0.8022004022240647,\n",
              " 0.8018454986395387,\n",
              " 0.8018454986395387,\n",
              " 0.8013722938601688,\n",
              " 0.8019637998343789,\n",
              " 0.8010173902756428,\n",
              " 0.8005441854962747,\n",
              " 0.8001892819117487,\n",
              " 0.7997160771323806,\n",
              " 0.8004258843014345,\n",
              " 0.7997160771323806,\n",
              " 0.7998343783272226,\n",
              " 0.8000709807169066,\n",
              " 0.8001892819117487,\n",
              " 0.8012539926653268,\n",
              " 0.8012539926653268,\n",
              " 0.8014905950550126,\n",
              " 0.802437004613747,\n",
              " 0.8023187034189068,\n",
              " 0.8031468117827991,\n",
              " 0.8039749201466968,\n",
              " 0.8043298237312229,\n",
              " 0.8043298237312229,\n",
              " 0.803856618951853,\n",
              " 0.8036200165621672,\n",
              " 0.8036200165621672,\n",
              " 0.8027919081982766,\n",
              " 0.803501715367327,\n",
              " 0.8029102093931186,\n",
              " 0.8026736070034328,\n",
              " 0.8026736070034328,\n",
              " 0.8029102093931186,\n",
              " 0.8023187034189068,\n",
              " 0.8011356914704866,\n",
              " 0.8003075831065924,\n",
              " 0.7999526795220664,\n",
              " 0.7999526795220664,\n",
              " 0.7999526795220664,\n",
              " 0.8007807878859587,\n",
              " 0.8012539926653268,\n",
              " 0.802082101029221,\n",
              " 0.802082101029221,\n",
              " 0.802437004613747,\n",
              " 0.8017271974446949,\n",
              " 0.8008990890808008,\n",
              " 0.8007807878859587,\n",
              " 0.8012539926653268,\n",
              " 0.8016088962498547,\n",
              " 0.8016088962498547,\n",
              " 0.8019637998343789,\n",
              " 0.8023187034189068,\n",
              " 0.8018454986395387,\n",
              " 0.8018454986395387,\n",
              " 0.8025553058085908,\n",
              " 0.802082101029221,\n",
              " 0.8027919081982766,\n",
              " 0.8030285105879589,\n",
              " 0.8029102093931186,\n",
              " 0.8025553058085908,\n",
              " 0.8022004022240647,\n",
              " 0.8022004022240647,\n",
              " 0.8022004022240647,\n",
              " 0.8010173902756428,\n",
              " 0.8022004022240647,\n",
              " 0.8012539926653268,\n",
              " 0.8004258843014345,\n",
              " 0.8004258843014345,\n",
              " 0.8008990890808008,\n",
              " 0.8018454986395387,\n",
              " 0.8032651129776411,\n",
              " 0.8029102093931186,\n",
              " 0.8031468117827991,\n",
              " 0.803856618951853,\n",
              " 0.8030285105879589,\n",
              " 0.8027919081982766,\n",
              " 0.803856618951853,\n",
              " 0.8032651129776411,\n",
              " 0.8033834141724849,\n",
              " 0.8033834141724849,\n",
              " 0.803501715367327,\n",
              " 0.8033834141724849,\n",
              " 0.803501715367327,\n",
              " 0.8030285105879589,\n",
              " 0.8027919081982766,\n",
              " 0.8026736070034328,\n",
              " 0.8042115225363791,\n",
              " 0.805512835679643,\n",
              " 0.8050396309002732,\n",
              " 0.805512835679643,\n",
              " 0.8050396309002732,\n",
              " 0.8050396309002732,\n",
              " 0.8053945344847993,\n",
              " 0.8056311368744833,\n",
              " 0.8059860404590093,\n",
              " 0.806459245238381,\n",
              " 0.8061043416538514,\n",
              " 0.8056311368744833,\n",
              " 0.8031468117827991,\n",
              " 0.8014905950550126,\n",
              " 0.8004258843014345,\n",
              " 0.8000709807169066,\n",
              " 0.8000709807169066,\n",
              " 0.8003075831065924,\n",
              " 0.7990062699633285,\n",
              " 0.7993611735478545,\n",
              " 0.7993611735478545,\n",
              " 0.7988879687684864,\n",
              " 0.7994794747426948,\n",
              " 0.8003075831065924,\n",
              " 0.8012539926653268,\n",
              " 0.8018454986395387,\n",
              " 0.8012539926653268,\n",
              " 0.8003075831065924,\n",
              " 0.8012539926653268,\n",
              " 0.8010173902756428,\n",
              " 0.8010173902756428,\n",
              " 0.8010173902756428,\n",
              " 0.8010173902756428,\n",
              " 0.8008990890808008,\n",
              " 0.8010173902756428,\n",
              " 0.8011356914704866,\n",
              " 0.800662486691115,\n",
              " 0.8013722938601688,\n",
              " 0.8025553058085908,\n",
              " 0.8010173902756428,\n",
              " 0.8018454986395387,\n",
              " 0.8025553058085908,\n",
              " 0.8029102093931186,\n",
              " 0.8022004022240647,\n",
              " 0.8022004022240647,\n",
              " 0.803501715367327,\n",
              " 0.8040932213415388,\n",
              " 0.8040932213415388,\n",
              " 0.8040932213415388,\n",
              " 0.8048030285105892,\n",
              " 0.8044481249260631,\n",
              " 0.8048030285105892,\n",
              " 0.8050396309002732,\n",
              " 0.8068141488229035,\n",
              " 0.8072873536022716,\n",
              " 0.8081154619661675,\n",
              " 0.8079971607713272,\n",
              " 0.8097716786939557,\n",
              " 0.8103631846681676,\n",
              " 0.8097716786939557,\n",
              " 0.8090618715249036,\n",
              " 0.8088252691352213,\n",
              " 0.8090618715249036,\n",
              " 0.8087069679403793,\n",
              " 0.8069324500177473,\n",
              " 0.8061043416538514,\n",
              " 0.8061043416538514,\n",
              " 0.8058677392641691,\n",
              " 0.8050396309002732,\n",
              " 0.8040932213415388,\n",
              " 0.803738317757011,\n",
              " 0.8039749201466968,\n",
              " 0.8036200165621672,\n",
              " 0.8030285105879589,\n",
              " 0.8004258843014345,\n",
              " 0.8017271974446949,\n",
              " 0.8033834141724849,\n",
              " 0.8029102093931186,\n",
              " 0.8049213297054312,\n",
              " 0.8027919081982766,\n",
              " 0.8048030285105892,\n",
              " 0.8069324500177473,\n",
              " 0.8068141488229035,\n",
              " 0.8095350763042699,\n",
              " 0.8078788595764834,\n",
              " 0.8082337631610095,\n",
              " 0.8085886667455355,\n",
              " 0.8087069679403793,\n",
              " 0.8068141488229035,\n",
              " 0.8088252691352213,\n",
              " 0.8114278954217458,\n",
              " 0.8123743049804837,\n",
              " 0.8120194013959541,\n",
              " 0.8122560037856399,\n",
              " 0.8115461966165878,\n",
              " 0.8092984739145876,\n",
              " 0.8077605583816414,\n",
              " 0.8063409440435372,\n",
              " 0.8053945344847993,\n",
              " 0.805512835679643,\n",
              " 0.8069324500177473,\n",
              " 0.8079971607713272,\n",
              " 0.8097716786939557,\n",
              " 0.8101265822784818,\n",
              " 0.8098899798887995,\n",
              " 0.805512835679643,\n",
              " 0.806459245238381,\n",
              " 0.805512835679643,\n",
              " 0.8072873536022716,\n",
              " 0.8031468117827991,\n",
              " 0.8031468117827991,\n",
              " 0.802082101029221,\n",
              " 0.8022004022240647,\n",
              " 0.8029102093931186,\n",
              " 0.8025553058085908,\n",
              " 0.8039749201466968,\n",
              " 0.8045664261209051,\n",
              " 0.8053945344847993,\n",
              " 0.8053945344847993,\n",
              " 0.8045664261209051,\n",
              " 0.8046847273157489,\n",
              " 0.805157932095117,\n",
              " 0.805157932095117,\n",
              " 0.8057494380693253,\n",
              " 0.8056311368744833,\n",
              " 0.8059860404590093,\n",
              " 0.8070507512125893,\n",
              " 0.8070507512125893,\n",
              " 0.8068141488229035,\n",
              " 0.8077605583816414,\n",
              " 0.8068141488229035,\n",
              " 0.8069324500177473,\n",
              " 0.8063409440435372,\n",
              " 0.8063409440435372,\n",
              " 0.803738317757011,\n",
              " 0.802082101029221,\n",
              " 0.8026736070034328,\n",
              " 0.8050396309002732,\n",
              " 0.8056311368744833,\n",
              " 0.8057494380693253,\n",
              " 0.8091801727197474,\n",
              " 0.8065775464332212,\n",
              " 0.8033834141724849,\n",
              " 0.802082101029221,\n",
              " 0.8010173902756428,\n",
              " 0.8007807878859587,\n",
              " 0.8003075831065924,\n",
              " 0.7991245711581705,\n",
              " 0.7991245711581705,\n",
              " 0.7977049568200645,\n",
              " 0.8004258843014345,\n",
              " 0.7978232580149083,\n",
              " 0.7943925233644862,\n",
              " 0.7914349934934357,\n",
              " 0.7921448006624878,\n",
              " 0.7924997042470139,\n",
              " 0.7920264994676458,\n",
              " 0.7895421743759616,\n",
              " 0.7871761504791195,\n",
              " 0.7902519815450155,\n",
              " 0.7903702827398593,\n",
              " 0.7874127528688053,\n",
              " 0.7849284277771229,\n",
              " 0.7838637170235447,\n",
              " 0.7810244883473345,\n",
              " 0.7835088134390151,\n",
              " 0.7846918253874371,\n",
              " 0.785401632556491,\n",
              " 0.7845735241925968,\n",
              " 0.7832722110493329,\n",
              " 0.784100319413227,\n",
              " 0.7833905122441749,\n",
              " 0.7816159943215464,\n",
              " 0.7774754525020722,\n",
              " 0.7772388501123864,\n",
              " 0.776292440553652,\n",
              " 0.7780669584762823,\n",
              " 0.7783035608659645,\n",
              " 0.7781852596711243,\n",
              " 0.7764107417484922,\n",
              " 0.7753460309949141,\n",
              " 0.7772388501123864,\n",
              " 0.7767656453330218,\n",
              " 0.7781852596711243,\n",
              " 0.7814976931267026,\n",
              " 0.7810244883473345,\n",
              " 0.7772388501123864,\n",
              " 0.776647344138178,\n",
              " 0.7797231752040705,\n",
              " 0.7787767656453344,\n",
              " 0.7786584644504941,\n",
              " 0.7798414763989143,\n",
              " 0.7817342955163866,\n",
              " 0.7804329823731262,\n",
              " 0.7810244883473345,\n",
              " 0.784455222997753,\n",
              " 0.7804329823731262,\n",
              " 0.7845735241925968,\n",
              " 0.7829173074648068,\n",
              " 0.7832722110493329,\n",
              " 0.7827990062699666,\n",
              " 0.7806695847628085,\n",
              " 0.7783035608659645,\n",
              " 0.7773571513072302,\n",
              " 0.7755826333845999,\n",
              " 0.774872826215546,\n",
              " 0.7746362238258602,\n",
              " 0.77345321187744,\n",
              " 0.7702590796167073,\n",
              " 0.7701407784218635,\n",
              " 0.7680113569147089,\n",
              " 0.7712054891754416,\n",
              " 0.7701407784218635,\n",
              " 0.7742813202413377,\n",
              " 0.7736898142671258,\n",
              " 0.7693126700579693,\n",
              " 0.7726251035135476,\n",
              " 0.774991127410388,\n",
              " 0.7751094286052318,\n",
              " 0.775227729800072,\n",
              " 0.7777120548917562,\n",
              " 0.7770022477227023,\n",
              " 0.7791316692298622,\n",
              " 0.7792499704247042,\n",
              " 0.7780669584762823,\n",
              " 0.7730983082929157,\n",
              " 0.774991127410388,\n",
              " 0.7745179226310199,\n",
              " 0.7743996214361779,\n",
              " 0.7755826333845999,\n",
              " 0.7758192357742804,\n",
              " 0.777948657281442,\n",
              " 0.7767656453330218,\n",
              " 0.776292440553652,\n",
              " 0.7772388501123864,\n",
              " 0.7760558381639662,\n",
              " 0.7755826333845999,\n",
              " 0.7754643321897579,\n",
              " 0.7781852596711243,\n",
              " 0.7798414763989143,\n",
              " 0.7791316692298622,\n",
              " 0.7813793919318606,\n",
              " 0.7809061871524925,\n",
              " 0.7814976931267026,\n",
              " 0.7819708979060689,\n",
              " 0.7827990062699666,\n",
              " 0.7837454158287009,\n",
              " 0.7846918253874371,\n",
              " 0.7843369218029128,\n",
              " 0.784455222997753,\n",
              " 0.7851650301668069,\n",
              " 0.7870578492842775,\n",
              " 0.7865846445049112,\n",
              " 0.7883591624275414,\n",
              " 0.7845735241925968,\n",
              " 0.785756536141017,\n",
              " 0.7837454158287009,\n",
              " 0.7839820182183868,\n",
              " 0.7837454158287009,\n",
              " 0.7862297409203851,\n",
              " 0.785756536141017,\n",
              " 0.7865846445049112,\n",
              " 0.7870578492842775,\n",
              " 0.7862297409203851,\n",
              " 0.7856382349461732,\n",
              " 0.784455222997753,\n",
              " 0.784100319413227,\n",
              " 0.7686028628889172,\n",
              " 0.7609132852241824,\n",
              " 0.7662368389920768,\n",
              " 0.7680113569147089,\n",
              " 0.7619779959777606,\n",
              " 0.7607949840293404,\n",
              " 0.7500295752987114,\n",
              " 0.7500295752987114,\n",
              " 0.7587838637170243,\n",
              " 0.7583106589376563,\n",
              " 0.7596119720809185,\n",
              " 0.7615047911983943,\n",
              " 0.7624512007571287,\n",
              " 0.7625695019519725,\n",
              " 0.7638708150952347,\n",
              " 0.7637525139003927,\n",
              " 0.7633976103158631,\n",
              " 0.7631610079261826,\n",
              " 0.765645333017865,\n",
              " 0.7644623210694448,\n",
              " 0.764580622264285,\n",
              " 0.767419850940497,\n",
              " 0.7716786939548097,\n",
              " 0.7728617059032317,\n",
              " 0.7715603927599695,\n",
              " 0.7712054891754416,\n",
              " 0.7695492724476516,\n",
              " 0.7709688867857594,\n",
              " 0.7703773808115493,\n",
              " 0.7743996214361779,\n",
              " 0.773571513072282,\n",
              " 0.7751094286052318,\n",
              " 0.7760558381639662,\n",
              " 0.7767656453330218,\n",
              " 0.7774754525020722,\n",
              " 0.7799597775937546,\n",
              " 0.7820891991009127,\n",
              " 0.7810244883473345,\n",
              " 0.7812610907370168,\n",
              " 0.7819708979060689,\n",
              " 0.7830356086596488,\n",
              " 0.7833905122441749,\n",
              " 0.7824441026854387,\n",
              " 0.7837454158287009,\n",
              " 0.7833905122441749,\n",
              " 0.7846918253874371,\n",
              " 0.785756536141017,\n",
              " 0.7871761504791195,\n",
              " 0.7887140660120693,\n",
              " 0.7900153791553297,\n",
              " 0.7868212468945952,\n",
              " 0.785401632556491,\n",
              " 0.785401632556491,\n",
              " 0.7848101265822791,\n",
              " 0.7862297409203851,\n",
              " 0.785401632556491,\n",
              " 0.7849284277771229,\n",
              " 0.7842186206080708,\n",
              " 0.7823258014905949,\n",
              " 0.7825624038802808,\n",
              " 0.7820891991009127,\n",
              " 0.7811427895421748,\n",
              " 0.7785401632556503,\n",
              " 0.7758192357742804,\n",
              " 0.776529042943336,\n",
              " 0.7753460309949141,\n",
              " 0.7753460309949141,\n",
              " 0.7791316692298622,\n",
              " 0.77617413935881,\n",
              " 0.7785401632556503,\n",
              " 0.7785401632556503,\n",
              " 0.7810244883473345,\n",
              " 0.7827990062699666,\n",
              " 0.7809061871524925,\n",
              " 0.7809061871524925,\n",
              " 0.7811427895421748,\n",
              " 0.7816159943215464,\n",
              " 0.7804329823731262,\n",
              " 0.7801963799834404,\n",
              " 0.7811427895421748,\n",
              " 0.7805512835679664,\n",
              " 0.7845735241925968,\n",
              " 0.7836271146338589,\n",
              " 0.7833905122441749,\n",
              " 0.7829173074648068,\n",
              " 0.785756536141017,\n",
              " 0.7862297409203851,\n",
              " 0.7887140660120693,\n",
              " 0.7868212468945952,\n",
              " 0.7861114397255431,\n",
              " 0.7830356086596488,\n",
              " 0.7813793919318606,\n",
              " 0.7820891991009127,\n",
              " 0.7830356086596488,\n",
              " 0.7837454158287009,\n",
              " 0.7858748373358573,\n",
              " 0.7876493552584893,\n",
              " 0.7882408612326977,\n",
              " 0.7891872707914374,\n",
              " 0.7881225600378574,\n",
              " 0.7887140660120693,\n",
              " 0.7889506684017533,\n",
              " 0.7884774636223835,\n",
              " 0.7920264994676458,\n",
              " 0.7901336803501735,\n",
              " 0.7900153791553297,\n",
              " 0.7908434875192256,\n",
              " 0.7914349934934357,\n",
              " 0.7941559209748039,\n",
              " 0.7939193185851199,\n",
              " 0.7923814030521719,\n",
              " 0.7920264994676458,\n",
              " 0.7914349934934357,\n",
              " 0.7888323672069095,\n",
              " 0.7898970779604895,\n",
              " 0.7901336803501735,\n",
              " 0.7881225600378574,\n",
              " 0.785756536141017,\n",
              " 0.785519933751333,\n",
              " 0.785401632556491,\n",
              " 0.7880042588430172,\n",
              " 0.7882408612326977,\n",
              " 0.7884774636223835,\n",
              " 0.7887140660120693,\n",
              " 0.7887140660120693,\n",
              " 0.7882408612326977,\n",
              " 0.7888323672069095,\n",
              " 0.7920264994676458,\n",
              " 0.7926180054418577,\n",
              " 0.7907251863243818,\n",
              " 0.7877676564533314,\n",
              " 0.7859931385306993,\n",
              " 0.7849284277771229,\n",
              " 0.7817342955163866,\n",
              " 0.7843369218029128,\n",
              " 0.7837454158287009,\n",
              " 0.784100319413227,\n",
              " 0.7836271146338589,\n",
              " 0.784455222997753,\n",
              " 0.7839820182183868,\n",
              " 0.7835088134390151,\n",
              " 0.7798414763989143,\n",
              " 0.7778303560865982,\n",
              " 0.7793682716195445,\n",
              " 0.7809061871524925,\n",
              " 0.7786584644504941,\n",
              " 0.7783035608659645,\n",
              " 0.7764107417484922,\n",
              " 0.7739264166568116,\n",
              " 0.7727434047083914,\n",
              " 0.7738081154619678,\n",
              " 0.7727434047083914,\n",
              " 0.7713237903702836,\n",
              " 0.7701407784218635,\n",
              " 0.7717969951496535,\n",
              " 0.773571513072282,\n",
              " 0.7729800070980737,\n",
              " 0.774872826215546,\n",
              " 0.7768839465278621,\n",
              " 0.7759375369691242,\n",
              " 0.7739264166568116,\n",
              " 0.7746362238258602,\n",
              " 0.7706139832012333,\n",
              " 0.7689577664734433,\n",
              " 0.7695492724476516,\n",
              " 0.7675381521353373,\n",
              " 0.7678930557198651,\n",
              " 0.7637525139003927,\n",
              " 0.7637525139003927,\n",
              " 0.7626878031468145,\n",
              " 0.7633976103158631,\n",
              " 0.7622145983674429,\n",
              " 0.7620962971726026,\n",
              " 0.7590204661067101,\n",
              " 0.7589021649118681,\n",
              " 0.7597302732757623,\n",
              " 0.7592570684963924,\n",
              " 0.7585472613273421,\n",
              " 0.7545250207027117,\n",
              " 0.7559446350408141,\n",
              " 0.7615047911983943,\n",
              " 0.7600851768602883,\n",
              " 0.7597302732757623,\n",
              " 0.7559446350408141,\n",
              " 0.7553531290666058,\n",
              " 0.7560629362356579,\n",
              " 0.7561812374304999,\n",
              " 0.7580740565479722,\n",
              " 0.7585472613273421,\n",
              " 0.7591387673015522,\n",
              " 0.7580740565479722,\n",
              " 0.7590204661067101,\n",
              " 0.7594936708860764,\n",
              " 0.7606766828345002,\n",
              " 0.7606766828345002,\n",
              " 0.7616230923932346,\n",
              " 0.7626878031468145,\n",
              " 0.7619779959777606,\n",
              " 0.7594936708860764,\n",
              " 0.7555897314562916,\n",
              " 0.7529871051697636,\n",
              " 0.7559446350408141,\n",
              " 0.7558263338459721,\n",
              " 0.7560629362356579,\n",
              " 0.7509759848574475,\n",
              " 0.7545250207027117,\n",
              " 0.756536141015026,\n",
              " 0.7571276469892343,\n",
              " 0.7587838637170243,\n",
              " 0.7583106589376563,\n",
              " 0.757955755353132,\n",
              " 0.7561812374304999,\n",
              " 0.755234827871762,\n",
              " 0.7542884183130276,\n",
              " 0.757009345794394,\n",
              " 0.7522772980007097,\n",
              " 0.7499112741038694,\n",
              " 0.7500295752987114,\n",
              " 0.7500295752987114,\n",
              " 0.7507393824677635,\n",
              " 0.7513308884419754,\n",
              " 0.7533420087542897,\n",
              " 0.7526322015852394,\n",
              " 0.7521589968058677,\n",
              " 0.7521589968058677,\n",
              " 0.7520406956110275,\n",
              " 0.7519223944161872,\n",
              " 0.7518040932213435,\n",
              " 0.7500295752987114,\n",
              " 0.7555897314562916,\n",
              " 0.7557080326511318,\n",
              " 0.7549982254820797,\n",
              " 0.7546433218975519,\n",
              " 0.758192357742816,\n",
              " 0.7589021649118681,\n",
              " 0.756536141015026,\n",
              " 0.7577191529634462,\n",
              " 0.758192357742816,\n",
              " 0.7586655625221823,\n",
              " 0.7604400804448144,\n",
              " 0.7596119720809185,\n",
              " 0.7598485744706025,\n",
              " 0.7567727434047118,\n",
              " 0.7516857920265014,\n",
              " 0.7483733585709231,\n",
              " 0.7495563705193433,\n",
              " 0.7506210812729233,\n",
              " 0.747308647817345,\n",
              " 0.7481367561812391,\n",
              " 0.745889033479239,\n",
              " 0.7470720454276591,\n",
              " 0.7482550573760829,\n",
              " 0.7474269490121852,\n",
              " 0.7457707322843987,\n",
              " 0.7468354430379769,\n",
              " 0.7452975275050289,\n",
              " 0.7457707322843987,\n",
              " 0.7464805394534508,\n",
              " ...]"
            ]
          },
          "metadata": {
            "tags": []
          },
          "execution_count": 87
        }
      ]
    },
    {
      "cell_type": "code",
      "metadata": {
        "id": "r1bbLftlCtwV",
        "outputId": "dc33731f-f0a8-4283-aba9-d13d5d86c554",
        "colab": {
          "base_uri": "https://localhost:8080/",
          "height": 35
        }
      },
      "source": [
        "# from numpy import array \n",
        "# lst_output=[]\n",
        "# n_steps=100\n",
        "# i=0\n",
        "# while(i<30):\n",
        "#   if(len(temp_input)>100):\n",
        "\n",
        "\n"
      ],
      "execution_count": 83,
      "outputs": [
        {
          "output_type": "execute_result",
          "data": {
            "text/plain": [
              "-27513"
            ]
          },
          "metadata": {
            "tags": []
          },
          "execution_count": 83
        }
      ]
    },
    {
      "cell_type": "code",
      "metadata": {
        "id": "qG_6Ya-iEzvh",
        "outputId": "d4023d57-dd6f-462c-b76c-701d5d2b2284",
        "colab": {
          "base_uri": "https://localhost:8080/",
          "height": 35
        }
      },
      "source": [
        "test_predict[0]"
      ],
      "execution_count": 89,
      "outputs": [
        {
          "output_type": "execute_result",
          "data": {
            "text/plain": [
              "array([1.0819781], dtype=float32)"
            ]
          },
          "metadata": {
            "tags": []
          },
          "execution_count": 89
        }
      ]
    },
    {
      "cell_type": "code",
      "metadata": {
        "id": "K72O36ZbFX7D",
        "outputId": "884067b3-e58c-4bbc-fef0-92b08a004c36",
        "colab": {
          "base_uri": "https://localhost:8080/",
          "height": 35
        }
      },
      "source": [
        "test_predict[-1]"
      ],
      "execution_count": 90,
      "outputs": [
        {
          "output_type": "execute_result",
          "data": {
            "text/plain": [
              "array([1.1229397], dtype=float32)"
            ]
          },
          "metadata": {
            "tags": []
          },
          "execution_count": 90
        }
      ]
    },
    {
      "cell_type": "code",
      "metadata": {
        "id": "0JiUwRTfFs5H",
        "outputId": "26eb77c3-035f-4ded-9a48-3c7fc7328c1f",
        "colab": {
          "base_uri": "https://localhost:8080/",
          "height": 35
        }
      },
      "source": [
        "test_predict[-2]"
      ],
      "execution_count": 93,
      "outputs": [
        {
          "output_type": "execute_result",
          "data": {
            "text/plain": [
              "array([1.1228585], dtype=float32)"
            ]
          },
          "metadata": {
            "tags": []
          },
          "execution_count": 93
        }
      ]
    },
    {
      "cell_type": "code",
      "metadata": {
        "id": "--la7YoJHqdk",
        "outputId": "d863a08d-1cc1-4d70-bad6-6da687299676",
        "colab": {
          "base_uri": "https://localhost:8080/",
          "height": 283
        }
      },
      "source": [
        "last=test_predict[:-10]\n",
        "plt.plot(last)"
      ],
      "execution_count": 98,
      "outputs": [
        {
          "output_type": "execute_result",
          "data": {
            "text/plain": [
              "[<matplotlib.lines.Line2D at 0x7fae33373fd0>]"
            ]
          },
          "metadata": {
            "tags": []
          },
          "execution_count": 98
        },
        {
          "output_type": "display_data",
          "data": {
            "image/png": "[encoded data removed]",
            "text/plain": [
              "<Figure size 432x288 with 1 Axes>"
            ]
          },
          "metadata": {
            "tags": [],
            "needs_background": "light"
          }
        }
      ]
    },
    {
      "cell_type": "code",
      "metadata": {
        "id": "U_AjUpdXIKHo",
        "outputId": "80a8b1f4-42a5-4343-c2ad-ee5a942b5e69",
        "colab": {
          "base_uri": "https://localhost:8080/",
          "height": 283
        }
      },
      "source": [
        "real_last=df1[:-10]\n",
        "plt.plot(real_last)"
      ],
      "execution_count": 99,
      "outputs": [
        {
          "output_type": "execute_result",
          "data": {
            "text/plain": [
              "[<matplotlib.lines.Line2D at 0x7fae33354cc0>]"
            ]
          },
          "metadata": {
            "tags": []
          },
          "execution_count": 99
        },
        {
          "output_type": "display_data",
          "data": {
            "image/png": "[encoded data removed]",
            "text/plain": [
              "<Figure size 432x288 with 1 Axes>"
            ]
          },
          "metadata": {
            "tags": [],
            "needs_background": "light"
          }
        }
      ]
    },
    {
      "cell_type": "code",
      "metadata": {
        "id": "O3yVSoaEJ-i0",
        "outputId": "5b97d74c-ea1a-4072-f5ef-93e6ece2ed53",
        "colab": {
          "base_uri": "https://localhost:8080/",
          "height": 17
        }
      },
      "source": [
        "x= test_predict[-10:]\n",
        "pd.DataFrame(x).to_csv(\"predict.csv\")\n",
        "files.download('predict.csv')"
      ],
      "execution_count": 101,
      "outputs": [
        {
          "output_type": "display_data",
          "data": {
            "application/javascript": [
              "\n",
              "    async function download(id, filename, size) {\n",
              "      if (!google.colab.kernel.accessAllowed) {\n",
              "        return;\n",
              "      }\n",
              "      const div = document.createElement('div');\n",
              "      const label = document.createElement('label');\n",
              "      label.textContent = `Downloading \"${filename}\": `;\n",
              "      div.appendChild(label);\n",
              "      const progress = document.createElement('progress');\n",
              "      progress.max = size;\n",
              "      div.appendChild(progress);\n",
              "      document.body.appendChild(div);\n",
              "\n",
              "      const buffers = [];\n",
              "      let downloaded = 0;\n",
              "\n",
              "      const channel = await google.colab.kernel.comms.open(id);\n",
              "      // Send a message to notify the kernel that we're ready.\n",
              "      channel.send({})\n",
              "\n",
              "      for await (const message of channel.messages) {\n",
              "        // Send a message to notify the kernel that we're ready.\n",
              "        channel.send({})\n",
              "        if (message.buffers) {\n",
              "          for (const buffer of message.buffers) {\n",
              "            buffers.push(buffer);\n",
              "            downloaded += buffer.byteLength;\n",
              "            progress.value = downloaded;\n",
              "          }\n",
              "        }\n",
              "      }\n",
              "      const blob = new Blob(buffers, {type: 'application/binary'});\n",
              "      const a = document.createElement('a');\n",
              "      a.href = window.URL.createObjectURL(blob);\n",
              "      a.download = filename;\n",
              "      div.appendChild(a);\n",
              "      a.click();\n",
              "      div.remove();\n",
              "    }\n",
              "  "
            ],
            "text/plain": [
              "<IPython.core.display.Javascript object>"
            ]
          },
          "metadata": {
            "tags": []
          }
        },
        {
          "output_type": "display_data",
          "data": {
            "application/javascript": [
              "download(\"download_434a8080-40e8-47ec-b2a7-ca877c0a67b9\", \"predict.csv\", 120)"
            ],
            "text/plain": [
              "<IPython.core.display.Javascript object>"
            ]
          },
          "metadata": {
            "tags": []
          }
        }
      ]
    },
    {
      "cell_type": "code",
      "metadata": {
        "id": "mQHaoL8xLZCE",
        "outputId": "4914c3c0-6d44-4081-c7fe-b2d82160cc04",
        "colab": {
          "base_uri": "https://localhost:8080/",
          "height": 217
        }
      },
      "source": [
        "y=df['Close']\n",
        "real=y[-10:]\n",
        "print(real)\n",
        "pd.DataFrame(real).to_csv(\"real(-10).csv\")\n",
        "files.download('real(-10).csv')"
      ],
      "execution_count": 106,
      "outputs": [
        {
          "output_type": "stream",
          "text": [
            "262010    1.12268\n",
            "262011    1.12272\n",
            "262012    1.12276\n",
            "262013    1.12279\n",
            "262014    1.12277\n",
            "262015    1.12286\n",
            "262016    1.12272\n",
            "262017    1.12282\n",
            "262018    1.12288\n",
            "262019    1.12301\n",
            "Name: Close, dtype: float64\n"
          ],
          "name": "stdout"
        },
        {
          "output_type": "display_data",
          "data": {
            "application/javascript": [
              "\n",
              "    async function download(id, filename, size) {\n",
              "      if (!google.colab.kernel.accessAllowed) {\n",
              "        return;\n",
              "      }\n",
              "      const div = document.createElement('div');\n",
              "      const label = document.createElement('label');\n",
              "      label.textContent = `Downloading \"${filename}\": `;\n",
              "      div.appendChild(label);\n",
              "      const progress = document.createElement('progress');\n",
              "      progress.max = size;\n",
              "      div.appendChild(progress);\n",
              "      document.body.appendChild(div);\n",
              "\n",
              "      const buffers = [];\n",
              "      let downloaded = 0;\n",
              "\n",
              "      const channel = await google.colab.kernel.comms.open(id);\n",
              "      // Send a message to notify the kernel that we're ready.\n",
              "      channel.send({})\n",
              "\n",
              "      for await (const message of channel.messages) {\n",
              "        // Send a message to notify the kernel that we're ready.\n",
              "        channel.send({})\n",
              "        if (message.buffers) {\n",
              "          for (const buffer of message.buffers) {\n",
              "            buffers.push(buffer);\n",
              "            downloaded += buffer.byteLength;\n",
              "            progress.value = downloaded;\n",
              "          }\n",
              "        }\n",
              "      }\n",
              "      const blob = new Blob(buffers, {type: 'application/binary'});\n",
              "      const a = document.createElement('a');\n",
              "      a.href = window.URL.createObjectURL(blob);\n",
              "      a.download = filename;\n",
              "      div.appendChild(a);\n",
              "      a.click();\n",
              "      div.remove();\n",
              "    }\n",
              "  "
            ],
            "text/plain": [
              "<IPython.core.display.Javascript object>"
            ]
          },
          "metadata": {
            "tags": []
          }
        },
        {
          "output_type": "display_data",
          "data": {
            "application/javascript": [
              "download(\"download_5d8c78bf-6d1d-415d-bdaa-e7b02a271797\", \"real(-10).csv\", 201)"
            ],
            "text/plain": [
              "<IPython.core.display.Javascript object>"
            ]
          },
          "metadata": {
            "tags": []
          }
        }
      ]
    }
  ]
}